{
 "cells": [
  {
   "cell_type": "markdown",
   "id": "a36e221a",
   "metadata": {},
   "source": [
    "# Notebook titile"
   ]
  },
  {
   "cell_type": "markdown",
   "id": "6d42a17a",
   "metadata": {},
   "source": [
    "## Introduction\n",
    "\n",
    "This notebook explores various concepts in data science and provides examples for better understanding.\n"
   ]
  },
  {
   "cell_type": "markdown",
   "id": "1cd70a9d",
   "metadata": {},
   "source": [
    "## Data Science Languages\n",
    "\n",
    "- Python\n",
    "- R\n",
    "- Julia\n"
   ]
  },
  {
   "cell_type": "markdown",
   "id": "316c3c82",
   "metadata": {},
   "source": [
    "## Data Science Libraries\n",
    "\n",
    "- NumPy\n",
    "- Pandas\n",
    "- Matplotlib\n"
   ]
  },
  {
   "cell_type": "markdown",
   "id": "291c21c8",
   "metadata": {},
   "source": [
    "## Data Science Tools\n",
    "\n",
    "| Category         | Tools                |\n",
    "|------------------|----------------------|\n",
    "| Data Cleaning    | OpenRefine, Trifacta |\n",
    "| Visualization    | Tableau, Power BI    |\n",
    "| Machine Learning  | Scikit-Learn, TensorFlow |\n"
   ]
  },
  {
   "cell_type": "markdown",
   "id": "ba3006cf",
   "metadata": {},
   "source": [
    "## Arithmetic Expression Examples\n",
    "\n",
    "Let's explore some basic arithmetic expressions in this section.\n"
   ]
  },
  {
   "cell_type": "code",
   "execution_count": 3,
   "id": "3413d010",
   "metadata": {},
   "outputs": [
    {
     "name": "stdout",
     "output_type": "stream",
     "text": [
      "120 minutes is equal to 2.0 hours.\n"
     ]
    }
   ],
   "source": [
    "# Convert Minutes to Hours\n",
    "minutes = 120\n",
    "hours = minutes / 60\n",
    "print(f\"{minutes} minutes is equal to {hours} hours.\")\n"
   ]
  },
  {
   "cell_type": "markdown",
   "id": "10b56b9d",
   "metadata": {},
   "source": [
    "# Convert Minutes to Hours\n",
    "minutes = 120\n",
    "hours = minutes / 60\n",
    "print(f\"{minutes} minutes is equal to {hours} hours.\")\n"
   ]
  },
  {
   "cell_type": "markdown",
   "id": "0a5f25aa",
   "metadata": {},
   "source": [
    "## Objectives\n",
    "\n",
    "1. Explore data science languages and libraries.\n",
    "2. Understand basic arithmetic expressions in Python.\n",
    "3. Convert units using Python.\n"
   ]
  },
  {
   "cell_type": "markdown",
   "id": "a4b24d72",
   "metadata": {},
   "source": [
    "## Author\n",
    "\n",
    "PARTH GUPTA"
   ]
  },
  {
   "cell_type": "markdown",
   "id": "76a2f1f0",
   "metadata": {},
   "source": []
  }
 ],
 "metadata": {
  "kernelspec": {
   "display_name": "Python 3 (ipykernel)",
   "language": "python",
   "name": "python3"
  },
  "language_info": {
   "codemirror_mode": {
    "name": "ipython",
    "version": 3
   },
   "file_extension": ".py",
   "mimetype": "text/x-python",
   "name": "python",
   "nbconvert_exporter": "python",
   "pygments_lexer": "ipython3",
   "version": "3.11.5"
  }
 },
 "nbformat": 4,
 "nbformat_minor": 5
}
